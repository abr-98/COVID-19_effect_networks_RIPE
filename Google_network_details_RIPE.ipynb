{
  "nbformat": 4,
  "nbformat_minor": 0,
  "metadata": {
    "colab": {
      "name": "Google_network_details_RIPE.ipynb",
      "provenance": [],
      "collapsed_sections": [
        "YzbZEdHiq8kT",
        "m47YyDuAq336",
        "sfevD27E5RPd"
      ]
    },
    "kernelspec": {
      "name": "python3",
      "display_name": "Python 3"
    }
  },
  "cells": [
    {
      "cell_type": "markdown",
      "metadata": {
        "id": "YzbZEdHiq8kT",
        "colab_type": "text"
      },
      "source": [
        "# Mounter"
      ]
    },
    {
      "cell_type": "code",
      "metadata": {
        "id": "H_JtA0DNqqnW",
        "colab_type": "code",
        "outputId": "70d7a20b-3f58-4187-d5ce-ca275f17c732",
        "colab": {
          "base_uri": "https://localhost:8080/",
          "height": 122
        }
      },
      "source": [
        "from google.colab import drive\n",
        "drive.mount('/content/drive')"
      ],
      "execution_count": 1,
      "outputs": [
        {
          "output_type": "stream",
          "text": [
            "Go to this URL in a browser: https://accounts.google.com/o/oauth2/auth?client_id=947318989803-6bn6qk8qdgf4n4g3pfee6491hc0brc4i.apps.googleusercontent.com&redirect_uri=urn%3aietf%3awg%3aoauth%3a2.0%3aoob&response_type=code&scope=email%20https%3a%2f%2fwww.googleapis.com%2fauth%2fdocs.test%20https%3a%2f%2fwww.googleapis.com%2fauth%2fdrive%20https%3a%2f%2fwww.googleapis.com%2fauth%2fdrive.photos.readonly%20https%3a%2f%2fwww.googleapis.com%2fauth%2fpeopleapi.readonly\n",
            "\n",
            "Enter your authorization code:\n",
            "··········\n",
            "Mounted at /content/drive\n"
          ],
          "name": "stdout"
        }
      ]
    },
    {
      "cell_type": "markdown",
      "metadata": {
        "id": "m47YyDuAq336",
        "colab_type": "text"
      },
      "source": [
        "# Extractor"
      ]
    },
    {
      "cell_type": "code",
      "metadata": {
        "id": "2r9oyuaerGnC",
        "colab_type": "code",
        "colab": {}
      },
      "source": [
        "import pandas as pd\n",
        "import numpy as np\n",
        "import json\n",
        "import csv\n",
        "import bz2\n",
        "import os\n",
        "import sys"
      ],
      "execution_count": 0,
      "outputs": []
    },
    {
      "cell_type": "code",
      "metadata": {
        "id": "PYQjXkoDrdxF",
        "colab_type": "code",
        "colab": {}
      },
      "source": [
        "def extractor(fle,writer,up_l,down_l,IP_det):\n",
        "  total=[]\n",
        "  source_file=bz2.BZ2File(fle,'r')\n",
        "  prev='ip'\n",
        "  temp_l=[]\n",
        "  for i,line in enumerate(source_file):\n",
        "    if i<down_l: \n",
        "      continue\n",
        "    if i==up_l: \n",
        "      break\n",
        "    print(i)\n",
        "    data=json.loads(line)\n",
        "    if 'from' not in data.keys() or 'dst_addr' not in data.keys():\n",
        "      continue\n",
        "    src_addr=data['from']\n",
        "    dest_addr=data[\"dst_addr\"]\n",
        "    if IP_det.get(dest_addr) is None:\n",
        "      continue\n",
        "    temp=data['result']\n",
        "    for iter in temp:\n",
        "      if \"result\" not in iter.keys():\n",
        "        continue\n",
        "      data_temp=iter['result']\n",
        "      for ext in data_temp:\n",
        "        if \"from\" in ext.keys():\n",
        "          if prev==str(ext[\"from\"]): continue\n",
        "          temp_l.append(ext[\"from\"])\n",
        "          prev=str(ext[\"from\"])\n",
        "    if len(temp_l)==0:\n",
        "      continue\n",
        "    writer.write(str(i)+\",\"+str(src_addr)+\",\"+str(dest_addr)+\"\\n\")\n",
        "    total.append(temp_l)  \n",
        "    temp_l=[]\n",
        "  down_l=up_l\n",
        "  up_l=up_l+20000\n",
        "  if i<down_l-1:\n",
        "    flag=1\n",
        "  else:\n",
        "    flag=0\n",
        "\n",
        "  return total,down_l,up_l,flag  "
      ],
      "execution_count": 0,
      "outputs": []
    },
    {
      "cell_type": "code",
      "metadata": {
        "id": "VpCy4qgNsxhl",
        "colab_type": "code",
        "colab": {}
      },
      "source": [
        "def merge(name_w,total):\n",
        "  df=pd.read_csv(name_w)\n",
        "  df['Hops']=total\n",
        "  df.to_csv(name_w,index=False)"
      ],
      "execution_count": 0,
      "outputs": []
    },
    {
      "cell_type": "code",
      "metadata": {
        "id": "xVprMSvfs0cr",
        "colab_type": "code",
        "colab": {}
      },
      "source": [
        "def caller_ext():\n",
        "  Path=\"drive/My Drive/iitkgp_summer_project\"\n",
        "  fldr=\"traceroute\"\n",
        "  print(Path+'/'+fldr)\n",
        "  files=os.listdir(Path+\"/\"+fldr)\n",
        "  up_l=20000\n",
        "  down_l=0\n",
        "  i=files[0]\n",
        "  fle=Path+\"/\"+fldr+\"/\"+i\n",
        "  print(fle)\n",
        "  flag=0\n",
        "  file_l='15169_details.json'\n",
        "  print(Path+'/'+file_l)\n",
        "  f=open(Path+'/'+file_l,\"r\")\n",
        "  IP_det=json.loads(f.read())\n",
        "  name=Path+'/'+i[-14:-4]+'Google'\n",
        "  print(name)\n",
        "  if os.path.exists(name):\n",
        "   \n",
        "    print(\"error\")\n",
        "    exit(0)\n",
        "  else:\n",
        "    os.mkdir(name)\n",
        "\n",
        "  counter_n=1\n",
        "  while(flag==0):\n",
        "    \n",
        "    name_w=name+'/IP_rec_Google'+i[-14:-4]+\"_\"+str(counter_n)+\".csv\"\n",
        "    print(name_w)\n",
        "    text=open(name_w,\"w\")\n",
        "\n",
        "    text.write(\"index,source,dest\\n\")\n",
        "    text.close()\n",
        "    writer=open(name_w,'a')\n",
        "\n",
        "    total,down_l,up_l,flag=extractor(fle,writer,up_l,down_l,IP_det)\n",
        "    writer.close()\n",
        "    merge(name_w, total)  \n",
        "    counter_n+=1"
      ],
      "execution_count": 0,
      "outputs": []
    },
    {
      "cell_type": "code",
      "metadata": {
        "id": "P-kupfoGvC-q",
        "colab_type": "code",
        "colab": {}
      },
      "source": [
        "caller_ext()"
      ],
      "execution_count": 0,
      "outputs": []
    },
    {
      "cell_type": "markdown",
      "metadata": {
        "id": "sfevD27E5RPd",
        "colab_type": "text"
      },
      "source": [
        " # All IP Listing"
      ]
    },
    {
      "cell_type": "code",
      "metadata": {
        "id": "hTmfC_Re5fki",
        "colab_type": "code",
        "colab": {}
      },
      "source": [
        "import pandas as pd\n",
        "import json\n",
        "import ast\n",
        "import os"
      ],
      "execution_count": 0,
      "outputs": []
    },
    {
      "cell_type": "code",
      "metadata": {
        "id": "QD08HAfj5uRJ",
        "colab_type": "code",
        "colab": {}
      },
      "source": [
        "def preprocess(fle,path,fldr1,fldr2):\n",
        "  Path=\"drive/My Drive/iitkgp_summer_project/Google_data\"\n",
        "  df=pd.read_csv(Path+'/'+fldr1+'/'+fldr2+'/'+fle)\n",
        "  z=0\n",
        "  df_l=df.values.tolist()\n",
        "  data={}\n",
        "  while z<len(df):\n",
        "    lst=ast.literal_eval(df_l[z][3])\n",
        "    k=df_l[z][1]\n",
        "    lst.insert(0,k)\n",
        "    lst.append(df_l[z][2])\n",
        "    j=0\n",
        "    while j<len(lst)-1:\n",
        "      if data.get(lst[j])==None:\n",
        "        data[lst[j]]=[lst[j+1]]\n",
        "      else:\n",
        "        ips=data.get(lst[j])\n",
        "        ips.append(lst[j+1])\n",
        "        data[lst[j]]=ips\n",
        "        #print(ips)\n",
        "      j+=1\n",
        "    \n",
        "    if data.get(lst[j])==None:\n",
        "      data[lst[j]]=[]\n",
        "    z+=1\n",
        "  dump=path+\"/\"+fle[:-4]+'.json'\n",
        "  print(dump)\n",
        "  if os.path.exists(dump):\n",
        "    os.remove(dump)\n",
        "  with open(dump, 'w') as fp:\n",
        "    json.dump(data, fp)"
      ],
      "execution_count": 0,
      "outputs": []
    },
    {
      "cell_type": "code",
      "metadata": {
        "id": "VdHc_uui8AG1",
        "colab_type": "code",
        "colab": {}
      },
      "source": [
        "def preprocess_caller():\n",
        "  Path=\"drive/My Drive/iitkgp_summer_project/Google_data\"\n",
        "  Path2=Path+'_json'\n",
        "  os.mkdir(Path2)\n",
        "  \n",
        "  fldr1=os.listdir(Path)\n",
        "  for i in fldr1:\n",
        "    p=Path2+'/'+i\n",
        "    os.mkdir(p)\n",
        "    fldr2=os.listdir(Path+'/'+i)\n",
        "    for j in fldr2:\n",
        "      q=p+'/'+j\n",
        "      os.mkdir(q)\n",
        "      files=os.listdir(Path+'/'+i+'/'+j)\n",
        "      for k in files:\n",
        "        preprocess(k,q,i,j)\n",
        "\n",
        "      \n",
        "  \n",
        "      "
      ],
      "execution_count": 0,
      "outputs": []
    },
    {
      "cell_type": "code",
      "metadata": {
        "id": "1Pnwmn6kB_Uj",
        "colab_type": "code",
        "colab": {}
      },
      "source": [
        "preprocess_caller()"
      ],
      "execution_count": 0,
      "outputs": []
    },
    {
      "cell_type": "markdown",
      "metadata": {
        "id": "QmxmxhHNRW9-",
        "colab_type": "text"
      },
      "source": [
        "# Destination Specific Distribution"
      ]
    },
    {
      "cell_type": "code",
      "metadata": {
        "id": "hQeJs68YOCXl",
        "colab_type": "code",
        "colab": {}
      },
      "source": [
        "import pandas as pd\n",
        "import json\n",
        "import os\n",
        "import ast"
      ],
      "execution_count": 0,
      "outputs": []
    },
    {
      "cell_type": "code",
      "metadata": {
        "id": "GYGRL_4RR5W-",
        "colab_type": "code",
        "colab": {}
      },
      "source": [
        "def Destination_wise(details,fle,fldr1,fldr2,IP):\n",
        "  Path=\"drive/My Drive/iitkgp_summer_project/Google_data\"\n",
        "  df=pd.read_csv(Path+'/'+fldr1+'/'+fldr2+'/'+fle)\n",
        "  \n",
        "  z=0\n",
        "  while z<len(df):\n",
        "    if df.iloc[z]['dest']==IP:\n",
        "      if details.get(df.iloc[z]['source']) is None:\n",
        "        temp=df.iloc[z]['source']\n",
        "        details[temp]={}\n",
        "        details[temp]['1']={}\n",
        "        details[temp]['1']['Hops']=lst=ast.literal_eval(df.iloc[z]['Hops'])\n",
        "        details[temp]['1']['date']=fldr1\n",
        "        details[temp]['1']['time']=fldr2[5:9]\n",
        "      else:\n",
        "        temp=df.iloc[z]['source']\n",
        "        temp_2=details.get(df.iloc[z]['source'])\n",
        "        l=len(temp_2)\n",
        "        details[temp][str(l+1)]={}\n",
        "        num=str(l+1)\n",
        "        details[temp][num]['Hops']=lst=ast.literal_eval(df.iloc[z]['Hops'])\n",
        "        details[temp][num]['date']=fldr1\n",
        "        details[temp][num]['time']=fldr2[5:9]\n",
        "    z+=1  \n",
        "\n",
        "  return details\n"
      ],
      "execution_count": 0,
      "outputs": []
    },
    {
      "cell_type": "code",
      "metadata": {
        "id": "y2fMpRsTZbtU",
        "colab_type": "code",
        "colab": {}
      },
      "source": [
        "def Destwise_caller():\n",
        "  Path=\"drive/My Drive/iitkgp_summer_project\"\n",
        "  Path_2=\"drive/My Drive/iitkgp_summer_project/Google_data\"\n",
        "  detail={}\n",
        "  IP='8.8.8.8'\n",
        "  dump=Path+'/'+IP+\"_details.json\"\n",
        "  \n",
        "  fldr1=os.listdir(Path_2)\n",
        "  for i in fldr1:\n",
        "    \n",
        "    fldr2=os.listdir(Path_2+'/'+i)\n",
        "    for j in fldr2:\n",
        "     \n",
        "      files=os.listdir(Path_2+'/'+i+'/'+j)\n",
        "      for k in files:\n",
        "        print(Path_2+'/'+i+'/'+j+'/'+k)\n",
        "        Destination_wise(detail,k,i,j,IP)\n",
        "\n",
        "  with open(dump, 'w') as fp:\n",
        "    json.dump(detail, fp)\n",
        "  \n",
        "      "
      ],
      "execution_count": 0,
      "outputs": []
    },
    {
      "cell_type": "code",
      "metadata": {
        "id": "3g1lEofKbQw6",
        "colab_type": "code",
        "colab": {}
      },
      "source": [
        "Destwise_caller()"
      ],
      "execution_count": 0,
      "outputs": []
    },
    {
      "cell_type": "markdown",
      "metadata": {
        "id": "RpajWmFwd85t",
        "colab_type": "text"
      },
      "source": [
        "# Detail Extractor"
      ]
    },
    {
      "cell_type": "code",
      "metadata": {
        "id": "Mzvn8YBseA9K",
        "colab_type": "code",
        "colab": {}
      },
      "source": [
        "import os\n",
        "import csv\n",
        "import pandas as pd\n",
        "import json"
      ],
      "execution_count": 0,
      "outputs": []
    },
    {
      "cell_type": "code",
      "metadata": {
        "id": "8tu8mA8du2GY",
        "colab_type": "code",
        "colab": {}
      },
      "source": [
        "def create_csv(fle,writer_file):\n",
        "  f=open(fle,\"r\")\n",
        "  data=json.loads(f.read())\n",
        "  writer=open(writer_file,'w')\n",
        "  writer.write(\"Source,Time,date\\n\")\n",
        "  writer.close()\n",
        "  writer=open(writer_file,'a')\n",
        "  hops=[]\n",
        "  for key in data.keys():\n",
        "    temp=data.get(key)\n",
        "    for i in temp:\n",
        "      writer.write(key+','+data[key][i]['time']+','+data[key][i]['date']+'\\n')\n",
        "      hops.append(data[key][i]['Hops'])\n",
        "  writer.close()\n",
        "  return hops\n"
      ],
      "execution_count": 0,
      "outputs": []
    },
    {
      "cell_type": "code",
      "metadata": {
        "id": "QLidDHwzzl6s",
        "colab_type": "code",
        "colab": {}
      },
      "source": [
        "def merge(name_w,total):\n",
        "  df=pd.read_csv(name_w)\n",
        "  df['Hops']=total\n",
        "  df.to_csv(name_w,index=False)"
      ],
      "execution_count": 0,
      "outputs": []
    },
    {
      "cell_type": "code",
      "metadata": {
        "id": "IeWIMoAMzqOQ",
        "colab_type": "code",
        "colab": {}
      },
      "source": [
        "Path=\"drive/My Drive/iitkgp_summer_project\"\n",
        "fle=Path+'/8.8.8.8_details.json'\n",
        "file_w=fle[:-5]+'.csv'\n",
        "total=create_csv(fle,file_w)\n",
        "merge(file_w,total)"
      ],
      "execution_count": 0,
      "outputs": []
    }
  ]
}