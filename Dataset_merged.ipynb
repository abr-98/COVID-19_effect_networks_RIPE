{
  "nbformat": 4,
  "nbformat_minor": 0,
  "metadata": {
    "colab": {
      "name": "Dataset_merged.ipynb",
      "provenance": [],
      "collapsed_sections": [],
      "toc_visible": true
    },
    "kernelspec": {
      "name": "python3",
      "display_name": "Python 3"
    }
  },
  "cells": [
    {
      "cell_type": "markdown",
      "metadata": {
        "id": "iYRm2G7JXdcU",
        "colab_type": "text"
      },
      "source": [
        "## Mounter"
      ]
    },
    {
      "cell_type": "code",
      "metadata": {
        "id": "-B-84z41XlJy",
        "colab_type": "code",
        "outputId": "598e72df-dac4-423e-de3b-0ba134ae390c",
        "colab": {
          "base_uri": "https://localhost:8080/",
          "height": 122
        }
      },
      "source": [
        "from google.colab import drive\n",
        "drive.mount('/content/drive')"
      ],
      "execution_count": 0,
      "outputs": [
        {
          "output_type": "stream",
          "text": [
            "Go to this URL in a browser: https://accounts.google.com/o/oauth2/auth?client_id=947318989803-6bn6qk8qdgf4n4g3pfee6491hc0brc4i.apps.googleusercontent.com&redirect_uri=urn%3aietf%3awg%3aoauth%3a2.0%3aoob&response_type=code&scope=email%20https%3a%2f%2fwww.googleapis.com%2fauth%2fdocs.test%20https%3a%2f%2fwww.googleapis.com%2fauth%2fdrive%20https%3a%2f%2fwww.googleapis.com%2fauth%2fdrive.photos.readonly%20https%3a%2f%2fwww.googleapis.com%2fauth%2fpeopleapi.readonly\n",
            "\n",
            "Enter your authorization code:\n",
            "··········\n",
            "Mounted at /content/drive\n"
          ],
          "name": "stdout"
        }
      ]
    },
    {
      "cell_type": "markdown",
      "metadata": {
        "id": "pB5-JV26r--A",
        "colab_type": "text"
      },
      "source": [
        "## Merger Youtube"
      ]
    },
    {
      "cell_type": "code",
      "metadata": {
        "id": "59WGsx3UsDO6",
        "colab_type": "code",
        "colab": {}
      },
      "source": [
        "import pandas as pd\n",
        "import os\n",
        "import sys"
      ],
      "execution_count": 0,
      "outputs": []
    },
    {
      "cell_type": "code",
      "metadata": {
        "id": "LqW6MBjRsIGI",
        "colab_type": "code",
        "colab": {}
      },
      "source": [
        "Path=\"drive/My Drive/iitkgp_summer_project\"\n",
        "fldr='youtube'\n",
        "i=1\n",
        "fle=\"Youtube_details.csv\"\n",
        "fle_1=Path+'/'+fle\n",
        "ext=\"IP_youtube_\"\n",
        "text=open(fle_1,'w')\n",
        "text.write(\"index,source,dest,Hops,Latency\")\n",
        "text.close()\n",
        "df=pd.read_csv(fle_1)\n",
        "\n",
        "while i<190:\n",
        "  file_2=Path+'/'+fldr+'/'+ext+str(i)+'.csv'\n",
        "  print(file_2)\n",
        "  df1=pd.read_csv(file_2)\n",
        "  if len(df1)==0:\n",
        "    i+=1\n",
        "    continue\n",
        "  df=pd.concat([df,df1])\n",
        "  i+=1\n",
        "df.to_csv(fle_1,index=False)"
      ],
      "execution_count": 0,
      "outputs": []
    },
    {
      "cell_type": "markdown",
      "metadata": {
        "id": "1uVB5BSfvYCA",
        "colab_type": "text"
      },
      "source": [
        "## Merger Netflix"
      ]
    },
    {
      "cell_type": "code",
      "metadata": {
        "id": "PE7l1u2QvXfx",
        "colab_type": "code",
        "colab": {}
      },
      "source": [
        "Path=\"drive/My Drive/iitkgp_summer_project\"\n",
        "fldr='netflix'\n",
        "i=1\n",
        "fle=\"Netflix_details.csv\"\n",
        "fle_1=Path+'/'+fle\n",
        "ext=\"IP_netflix_\"\n",
        "text=open(fle_1,'w')\n",
        "text.write(\"index,source,dest,Hops,Latency\")\n",
        "text.close()\n",
        "df=pd.read_csv(fle_1)\n",
        "\n",
        "while i<148:\n",
        "  file_2=Path+'/'+fldr+'/'+ext+str(i)+'.csv'\n",
        "  print(file_2)\n",
        "  df1=pd.read_csv(file_2)\n",
        "  if len(df1)==0:\n",
        "    i+=1\n",
        "    continue\n",
        "  df=pd.concat([df,df1])\n",
        "  i+=1\n",
        "df.to_csv(fle_1,index=False)"
      ],
      "execution_count": 0,
      "outputs": []
    },
    {
      "cell_type": "markdown",
      "metadata": {
        "id": "XGTSQ6ORwGgI",
        "colab_type": "text"
      },
      "source": [
        "## Main File"
      ]
    },
    {
      "cell_type": "code",
      "metadata": {
        "id": "J32Z5uK9wF0Q",
        "colab_type": "code",
        "colab": {}
      },
      "source": [
        "Path=\"drive/My Drive/iitkgp_summer_project\"\n",
        "fle=\"Final_details.csv\"\n",
        "fle_1=Path+'/'+fle\n",
        "ext=\"IP_netflix_\"\n",
        "text=open(fle_1,'w')\n",
        "text.write(\"index,source,dest,Hops,Latency\")\n",
        "text.close()\n",
        "fle_y=\"Youtube_details.csv\"\n",
        "fle_n=\"Netflix_details.csv\"\n",
        "target=[]\n",
        "fle_y=Path+'/'+fle_y\n",
        "df_y=pd.read_csv(fle_y)\n",
        "i=0\n",
        "while i<len(df_y):\n",
        "  target.append(\"Youtube\")\n",
        "  i+=1\n",
        "fle_n=Path+'/'+fle_n\n",
        "df_n=pd.read_csv(fle_n)\n",
        "i=0\n",
        "while i<len(df_n):\n",
        "  target.append(\"Netflix\")\n",
        "  i+=1\n",
        "df=pd.read_csv(fle_1)\n",
        "df=pd.concat([df,df_y,df_n])\n",
        "df['Target']=target\n",
        "df.to_csv(fle_1,index=False)\n",
        "\n"
      ],
      "execution_count": 0,
      "outputs": []
    },
    {
      "cell_type": "markdown",
      "metadata": {
        "id": "ACjYlJ_4qwGX",
        "colab_type": "text"
      },
      "source": [
        "## ASN Lookup"
      ]
    },
    {
      "cell_type": "code",
      "metadata": {
        "id": "fJwG53MUyZMn",
        "colab_type": "code",
        "outputId": "68b224a6-8de0-4b03-c9fc-5811606f2dee",
        "colab": {
          "base_uri": "https://localhost:8080/",
          "height": 85
        }
      },
      "source": [
        "!pip install cymruwhois"
      ],
      "execution_count": 0,
      "outputs": [
        {
          "output_type": "stream",
          "text": [
            "Collecting cymruwhois\n",
            "  Downloading https://files.pythonhosted.org/packages/a4/a4/b17f800098ec72d225882d5741a532c986305a7e9e46eda25fa149ff6ddf/cymruwhois-1.6-py3-none-any.whl\n",
            "Installing collected packages: cymruwhois\n",
            "Successfully installed cymruwhois-1.6\n"
          ],
          "name": "stdout"
        }
      ]
    },
    {
      "cell_type": "code",
      "metadata": {
        "id": "67RkfllFyxLR",
        "colab_type": "code",
        "colab": {}
      },
      "source": [
        "import pandas as pd\n",
        "from cymruwhois import Client\n",
        "import socket"
      ],
      "execution_count": 0,
      "outputs": []
    },
    {
      "cell_type": "code",
      "metadata": {
        "id": "gFvFa2Qly4yb",
        "colab_type": "code",
        "colab": {}
      },
      "source": [
        "Path=\"drive/My Drive/iitkgp_summer_project\"\n",
        "ext=\"Final_details.csv\"\n",
        "ext_2=\"Final_details_mod.csv\"\n",
        "file_w=Path+'/'+ext\n",
        "file_m=Path+'/'+ext_2\n",
        "df=pd.read_csv(file_w)\n",
        "c=Client()\n",
        "asn=[]\n",
        "as_name=[]\n",
        "location=[]\n",
        "\n",
        "j=0\n",
        "while j<len(df):\n",
        "  print(j)\n",
        "  try:\n",
        "    ip=df.iloc[j]['dest']\n",
        "  \n",
        "    print(\"A\")\n",
        "    r=c.lookup(ip)\n",
        "    print(r.asn)\n",
        "    print(r.owner)\n",
        "    asn.append(r.asn)\n",
        "    as_name.append(r.owner.split(',')[0])\n",
        "    location.append(r.owner.split(',')[1])\n",
        "  except:\n",
        "    print(\"error\")\n",
        "    asn.append(\"NA\")\n",
        "    as_name.append(\"NA\")\n",
        "    location.append(\"NA\")\n",
        "\n",
        "  j+=1\n",
        "\n",
        "df['AS_num']=asn\n",
        "df['AS_name']=as_name\n",
        "df['Location']=location\n",
        "df.to_csv(file_m,index=False)"
      ],
      "execution_count": 0,
      "outputs": []
    },
    {
      "cell_type": "code",
      "metadata": {
        "id": "4HH8G6UB2jnO",
        "colab_type": "code",
        "colab": {}
      },
      "source": [
        "Path=\"drive/My Drive/iitkgp_summer_project\"\n",
        "ext=\"Final_details_mod.csv\"\n",
        "ext_2=\"Final_details_mod_2.csv\"\n",
        "file_w=Path+'/'+ext\n",
        "file_m=Path+'/'+ext_2\n",
        "df=pd.read_csv(file_w)\n",
        "c=Client()\n",
        "hn=[]\n",
        "\n",
        "j=0\n",
        "while j<len(df):\n",
        "  print(j)\n",
        "  ip=df.iloc[j]['dest']\n",
        "  try:\n",
        "    h=socket.gethostbyaddr(ip)\n",
        "    hn.append(h[0])\n",
        "  except:\n",
        "    hn.append('NA')\n",
        "  j+=1\n",
        "print(hn)\n",
        "df['host']=hn\n",
        "\n",
        "df.to_csv(file_m,index=False)"
      ],
      "execution_count": 0,
      "outputs": []
    },
    {
      "cell_type": "markdown",
      "metadata": {
        "id": "Ig4uGmJp3P-I",
        "colab_type": "text"
      },
      "source": [
        "## Generating Req data"
      ]
    },
    {
      "cell_type": "code",
      "metadata": {
        "id": "b1j2m3x13UXI",
        "colab_type": "code",
        "colab": {}
      },
      "source": [
        "import pandas\n",
        "import ast\n",
        "from cymruwhois import Client"
      ],
      "execution_count": 0,
      "outputs": []
    },
    {
      "cell_type": "code",
      "metadata": {
        "id": "G0sRqpRoBcM2",
        "colab_type": "code",
        "colab": {}
      },
      "source": [
        "Path=\"drive/My Drive/iitkgp_summer_project\"\n",
        "ext=\"Final_details_mod_2.csv\"\n",
        "ext_2=\"Final_details_ob.csv\"\n",
        "nbr=[]\n",
        "c=Client()\n",
        "entry=[]\n",
        "file_w=Path+'/'+ext\n",
        "file_m=Path+'/'+ext_2\n",
        "df=pd.read_csv(file_w)\n",
        "i=0\n",
        "while i<len(df):\n",
        "  ip_l=lst=ast.literal_eval(df.iloc[i]['Hops'])\n",
        "  ip_l.insert(0,df.iloc[i]['source'])\n",
        "  ip_l.append(df.iloc[i]['dest'])\n",
        "  j=len(ip_l)-1\n",
        "  temp=c.lookup(ip_l[j])\n",
        "  Dest_AS=temp.asn\n",
        "  while j>=0:\n",
        "    \n",
        "    r=c.lookup(ip_l[j])\n",
        "    print(j)\n",
        "    print(Dest_AS)\n",
        "    print(\"B\")\n",
        "    print(r.asn)\n",
        "    if r.asn!=Dest_AS:\n",
        "      print(\"A\")\n",
        "      entry.append(ip_l[j+1])\n",
        "      break\n",
        "    j-=1\n",
        "  j=len(ip_l)-1\n",
        "  while j>=0:\n",
        "    #Dest_AS=df.iloc[i]['AS_num']\n",
        "    r=c.lookup(ip_l[j])\n",
        "    if r.asn!=Dest_AS and r.asn.isnumeric():\n",
        "      nbr.append(r.asn)\n",
        "      break\n",
        "    j-=1\n",
        "  i+=1\n",
        "\n",
        "df['Entry_Point']=entry\n",
        "df['Neighbouring_AS']=nbr\n",
        "\n",
        "df.to_csv(file_m,index=False)"
      ],
      "execution_count": 0,
      "outputs": []
    },
    {
      "cell_type": "markdown",
      "metadata": {
        "id": "79M10UHVUO-S",
        "colab_type": "text"
      },
      "source": [
        "## Date_time_inclusion"
      ]
    },
    {
      "cell_type": "code",
      "metadata": {
        "id": "2R6B6CESUSlY",
        "colab_type": "code",
        "colab": {}
      },
      "source": [
        "import pandas as pd\n",
        "Path=\"drive/My Drive/iitkgp_summer_project\"\n",
        "ext=\"Final_yn.csv\"\n",
        "ext_2=\"Final_yn_2.csv\"\n",
        "date=[]\n",
        "time=[]\n",
        "df=pd.read_csv(Path+'/'+ext)\n",
        "i=0\n",
        "while i<len(df):\n",
        "  date.append('08-04-2020')\n",
        "  time.append('3')\n",
        "  i+=1\n",
        "\n",
        "df['Time']=time\n",
        "df['Date']=date\n",
        "df.to_csv(Path+'/'+ext_2,index=False)\n",
        "\n"
      ],
      "execution_count": 0,
      "outputs": []
    },
    {
      "cell_type": "markdown",
      "metadata": {
        "id": "ekGWXA_FZUfj",
        "colab_type": "text"
      },
      "source": [
        "## Generating Required Source Dest Pairs"
      ]
    },
    {
      "cell_type": "code",
      "metadata": {
        "id": "REtwdhEzYtzp",
        "colab_type": "code",
        "colab": {}
      },
      "source": [
        "import pandas as pd\n",
        "Path=\"drive/My Drive/iitkgp_summer_project\"\n",
        "ext=\"Final_yn_2.csv\"\n",
        "ext_2=\"Requirements.csv\"\n",
        "file_w=Path+'/'+ext\n",
        "file_m=Path+'/'+ext_2\n",
        "text=open(file_m,'w')\n",
        "text.write('source,dest,Target,AS_num,AS_name,Location,host\\n')\n",
        "text.close()\n",
        "i=0\n",
        "text=open(file_m,'a')\n",
        "df=pd.read_csv(file_w)\n",
        "while i<len(df):\n",
        "  text.write(str(df.iloc[i]['source'])+','+str(df.iloc[i]['dest'])+','+str(df.iloc[i]['Target'])+','+str(df.iloc[i]['AS_num'])+','+str(df.iloc[i]['AS_name'])+','+str(df.iloc[i]['Location'])+','+str(df.iloc[i]['host'])+'\\n')\n",
        "  i+=1\n",
        "\n",
        "text.close()\n",
        "\n",
        "\n"
      ],
      "execution_count": 0,
      "outputs": []
    }
  ]
}